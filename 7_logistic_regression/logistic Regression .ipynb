{
 "cells": [
  {
   "cell_type": "markdown",
   "id": "7073933d",
   "metadata": {},
   "source": [
    "<img src=\"class.jpg\"/>\n",
    "Logistic regression is one of the techniques used for classification problems \n"
   ]
  },
  {
   "cell_type": "markdown",
   "id": "8993a3c8",
   "metadata": {},
   "source": [
    "<img src=\"class1.jpg\"/>"
   ]
  },
  {
   "cell_type": "code",
   "execution_count": null,
   "id": "48386051",
   "metadata": {},
   "outputs": [],
   "source": []
  }
 ],
 "metadata": {
  "kernelspec": {
   "display_name": "Python 3 (ipykernel)",
   "language": "python",
   "name": "python3"
  },
  "language_info": {
   "codemirror_mode": {
    "name": "ipython",
    "version": 3
   },
   "file_extension": ".py",
   "mimetype": "text/x-python",
   "name": "python",
   "nbconvert_exporter": "python",
   "pygments_lexer": "ipython3",
   "version": "3.9.12"
  }
 },
 "nbformat": 4,
 "nbformat_minor": 5
}
