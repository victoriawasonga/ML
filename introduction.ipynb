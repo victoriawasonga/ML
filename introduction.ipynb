{
 "cells": [
  {
   "attachments": {},
   "cell_type": "markdown",
   "metadata": {},
   "source": [
    "# machine learning   Definition\n",
    "There are certain tasks machine can do better than humans( mathematic calculations)  while there are others that people do better than machines like natural conversations.\n",
    "thus machine learning is a set of techniques to make computer better at doing things that humans traditionally did better than machines. \n",
    "\n",
    "Set of techniques to extract knowledge from available data and use knowlege to make decisions\n",
    "Ml-Deep learning/ Statistical models \n"
   ]
  }
 ],
 "metadata": {
  "kernelspec": {
   "display_name": "base",
   "language": "python",
   "name": "python3"
  },
  "language_info": {
   "codemirror_mode": {
    "name": "ipython",
    "version": 3
   },
   "file_extension": ".py",
   "mimetype": "text/x-python",
   "name": "python",
   "nbconvert_exporter": "python",
   "pygments_lexer": "ipython3",
   "version": "3.9.12"
  },
  "orig_nbformat": 4
 },
 "nbformat": 4,
 "nbformat_minor": 2
}
